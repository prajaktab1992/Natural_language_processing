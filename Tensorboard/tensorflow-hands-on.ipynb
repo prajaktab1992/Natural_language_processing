{
 "cells": [
  {
   "cell_type": "markdown",
   "metadata": {},
   "source": [
    "Tensorflow is a software framework for building and deploying machine learning models.Tensorflow can only work with NVIDIA-brand GPUs\n",
    "Tensorflows core execution engine is written in c++  for faster speed.Python is best supported and easiest language to use with \n",
    "tensorflow.\n",
    "\n",
    "keras is high level Tensorflow wrapper for building neural networks with only few lines of code.\n",
    "\n",
    "Tensors are multi dimmensional arrays\n",
    "\n",
    "\n",
    "Tensorflow session -an object that runs operations on the computation graph and tracks the state of each node in the graph\n",
    "\n",
    "Tensorflow cutom pipeline -It can scale to infinitely large data sets and take advantage of parallel processing."
   ]
  },
  {
   "cell_type": "code",
   "execution_count": 23,
   "metadata": {},
   "outputs": [
    {
     "name": "stdout",
     "output_type": "stream",
     "text": [
      "WARNING:tensorflow:From C:\\Users\\prajaktab2\\AppData\\Roaming\\Python\\Python37\\site-packages\\tensorflow\\python\\compat\\v2_compat.py:96: disable_resource_variables (from tensorflow.python.ops.variable_scope) is deprecated and will be removed in a future version.\n",
      "Instructions for updating:\n",
      "non-resource variables are not supported in the long term\n"
     ]
    }
   ],
   "source": [
    "import os\n",
    "#import tensorflow as tf\n",
    "\n",
    "import tensorflow.compat.v1 as tf\n",
    "tf.disable_v2_behavior() "
   ]
  },
  {
   "cell_type": "code",
   "execution_count": 2,
   "metadata": {},
   "outputs": [
    {
     "data": {
      "text/plain": [
       "'2.2.0'"
      ]
     },
     "execution_count": 2,
     "metadata": {},
     "output_type": "execute_result"
    }
   ],
   "source": [
    "tf.__version__"
   ]
  },
  {
   "cell_type": "code",
   "execution_count": 3,
   "metadata": {},
   "outputs": [],
   "source": [
    "#turn off tensorflow warning message in program output\n",
    "os.environ['TF_CPP_MIN_LOG_LEVEL']=\"2\""
   ]
  },
  {
   "cell_type": "code",
   "execution_count": 24,
   "metadata": {},
   "outputs": [],
   "source": [
    "#Define computational graph\n",
    "X=tf.placeholder(tf.float32,name=\"X\")\n",
    "Y=tf.placeholder(tf.float32,name=\"Y\")\n",
    "\n",
    "\n",
    "addition=tf.add(X,Y,name=\"addition\")"
   ]
  },
  {
   "cell_type": "code",
   "execution_count": 25,
   "metadata": {},
   "outputs": [
    {
     "name": "stdout",
     "output_type": "stream",
     "text": [
      "[[ 5.  4. 20.]\n",
      " [ 3.  6.  9.]]\n"
     ]
    }
   ],
   "source": [
    "#create session\n",
    "with tf.Session() as session:\n",
    "    result=session.run(addition,feed_dict={X:[[1,2,10],[2,4,6]],Y:[[4,2,10],[1,2,3]]})\n",
    "    print(result)\n",
    "    "
   ]
  },
  {
   "cell_type": "markdown",
   "metadata": {},
   "source": [
    "###### Load data set\n",
    "1.simple with pandas dataframe\n",
    "2.pipeline - when large data set(particularly when working with image)\n",
    "3. "
   ]
  },
  {
   "cell_type": "code",
   "execution_count": 26,
   "metadata": {},
   "outputs": [],
   "source": [
    "import tensorflow.compat.v1 as tf\n",
    "#tf.disable_v2_behavior() "
   ]
  },
  {
   "cell_type": "code",
   "execution_count": 27,
   "metadata": {},
   "outputs": [],
   "source": [
    "import pandas as pd\n",
    "import numpy as np\n",
    "from sklearn.preprocessing import MinMaxScaler"
   ]
  },
  {
   "cell_type": "code",
   "execution_count": 28,
   "metadata": {},
   "outputs": [
    {
     "name": "stdout",
     "output_type": "stream",
     "text": [
      "C:\\Users\\prajaktab2\\A-prajakta\\LEARNINGS_NLP\\Tensorboard\\Ex_Files_TensorFlow\\Exercise Files\n"
     ]
    }
   ],
   "source": [
    "import os\n",
    "print(os.getcwd())"
   ]
  },
  {
   "cell_type": "code",
   "execution_count": 29,
   "metadata": {},
   "outputs": [],
   "source": [
    "data=pd.read_csv(r\"./03/sales_data_training.csv\",dtype=float)"
   ]
  },
  {
   "cell_type": "code",
   "execution_count": 30,
   "metadata": {},
   "outputs": [
    {
     "data": {
      "text/html": [
       "<div>\n",
       "<style scoped>\n",
       "    .dataframe tbody tr th:only-of-type {\n",
       "        vertical-align: middle;\n",
       "    }\n",
       "\n",
       "    .dataframe tbody tr th {\n",
       "        vertical-align: top;\n",
       "    }\n",
       "\n",
       "    .dataframe thead th {\n",
       "        text-align: right;\n",
       "    }\n",
       "</style>\n",
       "<table border=\"1\" class=\"dataframe\">\n",
       "  <thead>\n",
       "    <tr style=\"text-align: right;\">\n",
       "      <th></th>\n",
       "      <th>critic_rating</th>\n",
       "      <th>is_action</th>\n",
       "      <th>is_exclusive_to_us</th>\n",
       "      <th>is_portable</th>\n",
       "      <th>is_role_playing</th>\n",
       "      <th>is_sequel</th>\n",
       "      <th>is_sports</th>\n",
       "      <th>suitable_for_kids</th>\n",
       "      <th>total_earnings</th>\n",
       "      <th>unit_price</th>\n",
       "    </tr>\n",
       "  </thead>\n",
       "  <tbody>\n",
       "    <tr>\n",
       "      <th>0</th>\n",
       "      <td>3.5</td>\n",
       "      <td>1.0</td>\n",
       "      <td>0.0</td>\n",
       "      <td>1.0</td>\n",
       "      <td>0.0</td>\n",
       "      <td>1.0</td>\n",
       "      <td>0.0</td>\n",
       "      <td>0.0</td>\n",
       "      <td>132717.0</td>\n",
       "      <td>59.99</td>\n",
       "    </tr>\n",
       "    <tr>\n",
       "      <th>1</th>\n",
       "      <td>4.5</td>\n",
       "      <td>0.0</td>\n",
       "      <td>0.0</td>\n",
       "      <td>0.0</td>\n",
       "      <td>0.0</td>\n",
       "      <td>1.0</td>\n",
       "      <td>1.0</td>\n",
       "      <td>0.0</td>\n",
       "      <td>83407.0</td>\n",
       "      <td>49.99</td>\n",
       "    </tr>\n",
       "    <tr>\n",
       "      <th>2</th>\n",
       "      <td>3.0</td>\n",
       "      <td>0.0</td>\n",
       "      <td>0.0</td>\n",
       "      <td>0.0</td>\n",
       "      <td>0.0</td>\n",
       "      <td>1.0</td>\n",
       "      <td>1.0</td>\n",
       "      <td>0.0</td>\n",
       "      <td>62423.0</td>\n",
       "      <td>49.99</td>\n",
       "    </tr>\n",
       "  </tbody>\n",
       "</table>\n",
       "</div>"
      ],
      "text/plain": [
       "   critic_rating  is_action  is_exclusive_to_us  is_portable  is_role_playing  \\\n",
       "0            3.5        1.0                 0.0          1.0              0.0   \n",
       "1            4.5        0.0                 0.0          0.0              0.0   \n",
       "2            3.0        0.0                 0.0          0.0              0.0   \n",
       "\n",
       "   is_sequel  is_sports  suitable_for_kids  total_earnings  unit_price  \n",
       "0        1.0        0.0                0.0        132717.0       59.99  \n",
       "1        1.0        1.0                0.0         83407.0       49.99  \n",
       "2        1.0        1.0                0.0         62423.0       49.99  "
      ]
     },
     "execution_count": 30,
     "metadata": {},
     "output_type": "execute_result"
    }
   ],
   "source": [
    "data.head(3)"
   ]
  },
  {
   "cell_type": "code",
   "execution_count": 31,
   "metadata": {},
   "outputs": [],
   "source": [
    "#pull out columns for X (data to train with ) and Y (value to predict)\n",
    "X_training=data.drop(columns={\"total_earnings\"}).values\n",
    "Y_training=data[['total_earnings']].values"
   ]
  },
  {
   "cell_type": "code",
   "execution_count": 32,
   "metadata": {},
   "outputs": [],
   "source": [
    "data_test=pd.read_csv(\"./03/sales_data_test.csv\",dtype=float)"
   ]
  },
  {
   "cell_type": "code",
   "execution_count": 33,
   "metadata": {},
   "outputs": [
    {
     "data": {
      "text/html": [
       "<div>\n",
       "<style scoped>\n",
       "    .dataframe tbody tr th:only-of-type {\n",
       "        vertical-align: middle;\n",
       "    }\n",
       "\n",
       "    .dataframe tbody tr th {\n",
       "        vertical-align: top;\n",
       "    }\n",
       "\n",
       "    .dataframe thead th {\n",
       "        text-align: right;\n",
       "    }\n",
       "</style>\n",
       "<table border=\"1\" class=\"dataframe\">\n",
       "  <thead>\n",
       "    <tr style=\"text-align: right;\">\n",
       "      <th></th>\n",
       "      <th>critic_rating</th>\n",
       "      <th>is_action</th>\n",
       "      <th>is_exclusive_to_us</th>\n",
       "      <th>is_portable</th>\n",
       "      <th>is_role_playing</th>\n",
       "      <th>is_sequel</th>\n",
       "      <th>is_sports</th>\n",
       "      <th>suitable_for_kids</th>\n",
       "      <th>total_earnings</th>\n",
       "      <th>unit_price</th>\n",
       "    </tr>\n",
       "  </thead>\n",
       "  <tbody>\n",
       "    <tr>\n",
       "      <th>0</th>\n",
       "      <td>3.5</td>\n",
       "      <td>1.0</td>\n",
       "      <td>1.0</td>\n",
       "      <td>1.0</td>\n",
       "      <td>0.0</td>\n",
       "      <td>1.0</td>\n",
       "      <td>0.0</td>\n",
       "      <td>1.0</td>\n",
       "      <td>247537.0</td>\n",
       "      <td>59.99</td>\n",
       "    </tr>\n",
       "    <tr>\n",
       "      <th>1</th>\n",
       "      <td>2.5</td>\n",
       "      <td>0.0</td>\n",
       "      <td>0.0</td>\n",
       "      <td>0.0</td>\n",
       "      <td>1.0</td>\n",
       "      <td>1.0</td>\n",
       "      <td>0.0</td>\n",
       "      <td>0.0</td>\n",
       "      <td>73960.0</td>\n",
       "      <td>59.99</td>\n",
       "    </tr>\n",
       "  </tbody>\n",
       "</table>\n",
       "</div>"
      ],
      "text/plain": [
       "   critic_rating  is_action  is_exclusive_to_us  is_portable  is_role_playing  \\\n",
       "0            3.5        1.0                 1.0          1.0              0.0   \n",
       "1            2.5        0.0                 0.0          0.0              1.0   \n",
       "\n",
       "   is_sequel  is_sports  suitable_for_kids  total_earnings  unit_price  \n",
       "0        1.0        0.0                1.0        247537.0       59.99  \n",
       "1        1.0        0.0                0.0         73960.0       59.99  "
      ]
     },
     "execution_count": 33,
     "metadata": {},
     "output_type": "execute_result"
    }
   ],
   "source": [
    "data_test.head(2)"
   ]
  },
  {
   "cell_type": "code",
   "execution_count": 34,
   "metadata": {},
   "outputs": [],
   "source": [
    "X_test=data_test.drop(columns={\"total_earnings\"}).values\n",
    "Y_test=data_test[['total_earnings']].values"
   ]
  },
  {
   "cell_type": "markdown",
   "metadata": {},
   "source": [
    "All data needs to be scaled on smaoll scale(0 to 1) for neural network to work well.Create scalers for input and outputs"
   ]
  },
  {
   "cell_type": "code",
   "execution_count": 35,
   "metadata": {},
   "outputs": [],
   "source": [
    "X_scaler=MinMaxScaler(feature_range=(0,1))\n",
    "Y_scaler=MinMaxScaler(feature_range=(0,1))"
   ]
  },
  {
   "cell_type": "code",
   "execution_count": 36,
   "metadata": {},
   "outputs": [],
   "source": [
    "X_scaled_training=X_scaler.fit_transform(X_training)\n",
    "Y_scaled_training=Y_scaler.fit_transform(Y_training)"
   ]
  },
  {
   "cell_type": "markdown",
   "metadata": {},
   "source": [
    "It is very important that the training and test data are scaled with same scaler so we will use just transform method\n",
    "instead of fit_transform"
   ]
  },
  {
   "cell_type": "code",
   "execution_count": 37,
   "metadata": {},
   "outputs": [],
   "source": [
    "X_scaled_testing=X_scaler.transform(X_test)\n",
    "Y_scaled_testing=Y_scaler.transform(Y_test)"
   ]
  },
  {
   "cell_type": "code",
   "execution_count": 38,
   "metadata": {},
   "outputs": [
    {
     "data": {
      "text/plain": [
       "(400, 9)"
      ]
     },
     "execution_count": 38,
     "metadata": {},
     "output_type": "execute_result"
    }
   ],
   "source": [
    "X_scaled_testing.shape"
   ]
  },
  {
   "cell_type": "code",
   "execution_count": 39,
   "metadata": {},
   "outputs": [
    {
     "data": {
      "text/plain": [
       "(400, 1)"
      ]
     },
     "execution_count": 39,
     "metadata": {},
     "output_type": "execute_result"
    }
   ],
   "source": [
    "Y_scaled_testing.shape"
   ]
  },
  {
   "cell_type": "code",
   "execution_count": 40,
   "metadata": {},
   "outputs": [],
   "source": [
    "#### Define model parameters\n",
    "learning_rate=0.001\n",
    "epochs=100\n",
    "display_step=5"
   ]
  },
  {
   "cell_type": "code",
   "execution_count": 41,
   "metadata": {},
   "outputs": [],
   "source": [
    "# Define how many input and output parameters are in our neural network\n",
    "number_of_inputs=9\n",
    "number_of_outputs=1"
   ]
  },
  {
   "cell_type": "code",
   "execution_count": 42,
   "metadata": {},
   "outputs": [],
   "source": [
    "#Define how many neurons we want in each layer of neural network\n",
    "layer_1_nodes=50\n",
    "layer_2_nodes=100\n",
    "layer_3_nodes=50"
   ]
  },
  {
   "cell_type": "code",
   "execution_count": 43,
   "metadata": {},
   "outputs": [],
   "source": [
    "with tf.variable_scope('input'):\n",
    "    X=tf.placeholder(tf.float32,shape=(None,number_of_inputs))"
   ]
  },
  {
   "cell_type": "code",
   "execution_count": 44,
   "metadata": {},
   "outputs": [
    {
     "name": "stdout",
     "output_type": "stream",
     "text": [
      "WARNING:tensorflow:From C:\\Users\\prajaktab2\\AppData\\Roaming\\Python\\Python37\\site-packages\\tensorflow\\python\\ops\\resource_variable_ops.py:1666: calling BaseResourceVariable.__init__ (from tensorflow.python.ops.resource_variable_ops) with constraint is deprecated and will be removed in a future version.\n",
      "Instructions for updating:\n",
      "If using Keras pass *_constraint arguments to layers.\n"
     ]
    }
   ],
   "source": [
    "with tf.variable_scope('layer_1'):\n",
    "    weights=tf.get_variable(name=\"weights1\",shape=[number_of_inputs,layer_1_nodes],initializer=tf.zeros_initializer())\n",
    "    biases=tf.get_variable(name=\"biases1\",shape=[layer_1_nodes],initializer=tf.zeros_initializer())\n",
    "    layer_1_output=tf.nn.relu(tf.matmul(X,weights)+biases)"
   ]
  },
  {
   "cell_type": "code",
   "execution_count": 45,
   "metadata": {},
   "outputs": [],
   "source": [
    "with tf.variable_scope('layer_2'):\n",
    "    weights=tf.get_variable(name=\"weights2\",shape=[layer_1_nodes,layer_2_nodes],initializer=tf.zeros_initializer())\n",
    "    biases=tf.get_variable(name=\"biases2\",shape=[layer_2_nodes],initializer=tf.zeros_initializer())\n",
    "    layer_2_output=tf.nn.relu(tf.matmul(layer_1_output,weights)+biases)"
   ]
  },
  {
   "cell_type": "code",
   "execution_count": 46,
   "metadata": {},
   "outputs": [],
   "source": [
    "with tf.variable_scope('layer_3'):\n",
    "    weights=tf.get_variable(name=\"weights3\",shape=[layer_2_nodes,layer_3_nodes],initializer=tf.zeros_initializer())\n",
    "    biases=tf.get_variable(name=\"biases3\",shape=[layer_3_nodes],initializer=tf.zeros_initializer())\n",
    "    layer_3_output=tf.nn.relu(tf.matmul(layer_2_output,weights)+biases)"
   ]
  },
  {
   "cell_type": "code",
   "execution_count": 47,
   "metadata": {},
   "outputs": [],
   "source": [
    "with tf.variable_scope('output'):\n",
    "    \n",
    "    weights=tf.get_variable(name=\"weights4\",shape=[layer_3_nodes,number_of_outputs],initializer=tf.zeros_initializer())\n",
    "    biases=tf.get_variable(name=\"biases4\",shape=[number_of_outputs],initializer=tf.zeros_initializer())\n",
    "    prediction=tf.nn.relu(tf.matmul(layer_3_output,weights)+biases)    \n",
    "    "
   ]
  },
  {
   "cell_type": "markdown",
   "metadata": {},
   "source": [
    "#Define the cost function for neual network"
   ]
  },
  {
   "cell_type": "code",
   "execution_count": 48,
   "metadata": {},
   "outputs": [],
   "source": [
    "with tf.variable_scope('cost'):\n",
    "    Y=tf.placeholder(tf.float32,shape=(None,1))\n",
    "    cost=tf.reduce_mean(tf.squared_difference(prediction,Y))"
   ]
  },
  {
   "cell_type": "code",
   "execution_count": 49,
   "metadata": {},
   "outputs": [],
   "source": [
    "#Define optimizer to optimize neural network\n",
    "with tf.variable_scope('train'):\n",
    "    optimizer=tf.train.AdamOptimizer(learning_rate).minimize(cost)\n"
   ]
  },
  {
   "cell_type": "markdown",
   "metadata": {},
   "source": [
    "#logging information to tensorboard"
   ]
  },
  {
   "cell_type": "code",
   "execution_count": 50,
   "metadata": {},
   "outputs": [],
   "source": [
    "with tf.variable_scope('logging'):\n",
    "    tf.summary.scalar(\"current_cost\",cost)\n",
    "    summary=tf.summary.merge_all()"
   ]
  },
  {
   "cell_type": "code",
   "execution_count": null,
   "metadata": {},
   "outputs": [],
   "source": []
  },
  {
   "cell_type": "markdown",
   "metadata": {},
   "source": [
    "To run any operation on tensorflow graph we need to create session"
   ]
  },
  {
   "cell_type": "code",
   "execution_count": 55,
   "metadata": {},
   "outputs": [
    {
     "name": "stdout",
     "output_type": "stream",
     "text": [
      "Training pass :0\n",
      "0 0.113659315 0.12273928\n",
      "Training pass :1\n",
      "Training pass :2\n",
      "Training pass :3\n",
      "Training pass :4\n",
      "Training pass :5\n",
      "5 0.113659315 0.12273928\n",
      "Training pass :6\n",
      "Training pass :7\n",
      "Training pass :8\n",
      "Training pass :9\n",
      "Training pass :10\n",
      "10 0.113659315 0.12273928\n",
      "Training pass :11\n",
      "Training pass :12\n",
      "Training pass :13\n",
      "Training pass :14\n",
      "Training pass :15\n",
      "15 0.113659315 0.12273928\n",
      "Training pass :16\n",
      "Training pass :17\n",
      "Training pass :18\n",
      "Training pass :19\n",
      "Training pass :20\n",
      "20 0.113659315 0.12273928\n",
      "Training pass :21\n",
      "Training pass :22\n",
      "Training pass :23\n",
      "Training pass :24\n",
      "Training pass :25\n",
      "25 0.113659315 0.12273928\n",
      "Training pass :26\n",
      "Training pass :27\n",
      "Training pass :28\n",
      "Training pass :29\n",
      "Training pass :30\n",
      "30 0.113659315 0.12273928\n",
      "Training pass :31\n",
      "Training pass :32\n",
      "Training pass :33\n",
      "Training pass :34\n",
      "Training pass :35\n",
      "35 0.113659315 0.12273928\n",
      "Training pass :36\n",
      "Training pass :37\n",
      "Training pass :38\n",
      "Training pass :39\n",
      "Training pass :40\n",
      "40 0.113659315 0.12273928\n",
      "Training pass :41\n",
      "Training pass :42\n",
      "Training pass :43\n",
      "Training pass :44\n",
      "Training pass :45\n",
      "45 0.113659315 0.12273928\n",
      "Training pass :46\n",
      "Training pass :47\n",
      "Training pass :48\n",
      "Training pass :49\n",
      "Training pass :50\n",
      "50 0.113659315 0.12273928\n",
      "Training pass :51\n",
      "Training pass :52\n",
      "Training pass :53\n",
      "Training pass :54\n",
      "Training pass :55\n",
      "55 0.113659315 0.12273928\n",
      "Training pass :56\n",
      "Training pass :57\n",
      "Training pass :58\n",
      "Training pass :59\n",
      "Training pass :60\n",
      "60 0.113659315 0.12273928\n",
      "Training pass :61\n",
      "Training pass :62\n",
      "Training pass :63\n",
      "Training pass :64\n",
      "Training pass :65\n",
      "65 0.113659315 0.12273928\n",
      "Training pass :66\n",
      "Training pass :67\n",
      "Training pass :68\n",
      "Training pass :69\n",
      "Training pass :70\n",
      "70 0.113659315 0.12273928\n",
      "Training pass :71\n",
      "Training pass :72\n",
      "Training pass :73\n",
      "Training pass :74\n",
      "Training pass :75\n",
      "75 0.113659315 0.12273928\n",
      "Training pass :76\n",
      "Training pass :77\n",
      "Training pass :78\n",
      "Training pass :79\n",
      "Training pass :80\n",
      "80 0.113659315 0.12273928\n",
      "Training pass :81\n",
      "Training pass :82\n",
      "Training pass :83\n",
      "Training pass :84\n",
      "Training pass :85\n",
      "85 0.113659315 0.12273928\n",
      "Training pass :86\n",
      "Training pass :87\n",
      "Training pass :88\n",
      "Training pass :89\n",
      "Training pass :90\n",
      "90 0.113659315 0.12273928\n",
      "Training pass :91\n",
      "Training pass :92\n",
      "Training pass :93\n",
      "Training pass :94\n",
      "Training pass :95\n",
      "95 0.113659315 0.12273928\n",
      "Training pass :96\n",
      "Training pass :97\n",
      "Training pass :98\n",
      "Training pass :99\n",
      "Training is completed\n",
      "Final training cost: 0.1136593148112297\n",
      "Final testing cost : 0.122739277780056\n"
     ]
    }
   ],
   "source": [
    "with tf.Session() as session:\n",
    "    #run the global variable initializer to initialize all variables and layers of the graph\n",
    "    session.run(tf.global_variables_initializer())\n",
    "    \n",
    "    #create log file writers to record training progress\n",
    "    # we will store training and testing log data seperatly\n",
    "    training_Writer=tf.compat.v1.summary.FileWriter(\"./logs/training\",session.graph)\n",
    "    testing_writer=tf.compat.v1.summary.FileWriter(\"./logs/testing\",session.graph)\n",
    "    #Run the optimizer over and over to train the network\n",
    "    #one epoch is one full run through the training data set\n",
    "    \n",
    "    for epoch in range(epochs):\n",
    "        #Feed in the training data and do one step of neural network training data set\n",
    "        session.run(optimizer,feed_dict={X:X_scaled_training,Y:Y_scaled_training})\n",
    "        #print current training status to console\n",
    "        print(\"Training pass :{}\".format(epoch))\n",
    "        \n",
    "        if epoch %5 ==0:\n",
    "            training_cost,training_summary=session.run([cost,summary],feed_dict={X:X_scaled_training,Y:Y_scaled_training})\n",
    "            testing_cost,testing_summary=session.run([cost,summary],feed_dict={X:X_scaled_testing,Y:Y_scaled_testing})\n",
    "            print(epoch,training_cost,testing_cost)\n",
    "            \n",
    "            #write current status to log file\n",
    "            training_Writer.add_summary(training_summary,epoch)\n",
    "            testing_writer.add_summary(testing_summary,epoch)\n",
    "    \n",
    "    #training is now complete\n",
    "    print(\"Training is completed\")\n",
    "    final_training_cost=session.run(cost,feed_dict={X:X_scaled_training,Y:Y_scaled_training})\n",
    "    final_testing_cost=session.run(cost,feed_dict={X:X_scaled_testing,Y:Y_scaled_testing})\n",
    "    \n",
    "    print(\"Final training cost: {}\".format(final_training_cost))\n",
    "    print(\"Final testing cost : {}\".format(final_testing_cost))"
   ]
  },
  {
   "cell_type": "code",
   "execution_count": 56,
   "metadata": {},
   "outputs": [],
   "source": [
    "%load_ext tensorboard "
   ]
  },
  {
   "cell_type": "code",
   "execution_count": 59,
   "metadata": {},
   "outputs": [
    {
     "data": {
      "text/plain": [
       "'C:\\\\Users\\\\prajaktab2\\\\A-prajakta\\\\LEARNINGS_NLP\\\\Tensorboard\\\\Ex_Files_TensorFlow\\\\Exercise Files'"
      ]
     },
     "execution_count": 59,
     "metadata": {},
     "output_type": "execute_result"
    }
   ],
   "source": [
    "os.getcwd()"
   ]
  },
  {
   "cell_type": "code",
   "execution_count": 68,
   "metadata": {},
   "outputs": [
    {
     "name": "stderr",
     "output_type": "stream",
     "text": [
      "'kill' is not recognized as an internal or external command,\n",
      "operable program or batch file.\n"
     ]
    }
   ],
   "source": [
    "!kill 31124"
   ]
  },
  {
   "cell_type": "code",
   "execution_count": 70,
   "metadata": {},
   "outputs": [
    {
     "data": {
      "text/plain": [
       "ERROR: Timed out waiting for TensorBoard to start. It may still be running as pid 41972."
      ]
     },
     "metadata": {},
     "output_type": "display_data"
    }
   ],
   "source": [
    "%tensorboard --logdir ./logs/training #!kill 36432"
   ]
  },
  {
   "cell_type": "code",
   "execution_count": null,
   "metadata": {},
   "outputs": [],
   "source": []
  },
  {
   "cell_type": "markdown",
   "metadata": {},
   "source": [
    "#Saver.save\n",
    "#save.restore\n",
    "\n",
    "Checkpoint file -a file that contains the state of a trained machine learning model"
   ]
  },
  {
   "cell_type": "code",
   "execution_count": null,
   "metadata": {},
   "outputs": [],
   "source": []
  }
 ],
 "metadata": {
  "kernelspec": {
   "display_name": "Python 3",
   "language": "python",
   "name": "python3"
  },
  "language_info": {
   "codemirror_mode": {
    "name": "ipython",
    "version": 3
   },
   "file_extension": ".py",
   "mimetype": "text/x-python",
   "name": "python",
   "nbconvert_exporter": "python",
   "pygments_lexer": "ipython3",
   "version": "3.7.3"
  }
 },
 "nbformat": 4,
 "nbformat_minor": 2
}
