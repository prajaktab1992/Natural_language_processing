{
  "nbformat": 4,
  "nbformat_minor": 0,
  "metadata": {
    "colab": {
      "name": "Tfidf_BusinessUsecase.ipynb",
      "provenance": [],
      "collapsed_sections": []
    },
    "kernelspec": {
      "name": "python3",
      "display_name": "Python 3"
    }
  },
  "cells": [
    {
      "cell_type": "markdown",
      "metadata": {
        "id": "C4UCrp_ezYRx"
      },
      "source": [
        "**Natural language processing - TFIDF**\r\n"
      ]
    },
    {
      "cell_type": "markdown",
      "metadata": {
        "id": "2CSDaCtSM_QG"
      },
      "source": [
        "Term Frequency inverse document frequency\r\n",
        "Natural language processing is evolving over the time that deals with understanding and processing human languages.\r\n",
        "\r\n",
        "\r\n",
        "Machine learning algorithms can't directly work on raw data.Rather text must be converted into numbers for processing.In nlp features are the words which are important to understand the document(Meaning/context etc).\r\n",
        "\r\n",
        "Term frequency inverse document frequency is one of the statistcal way that we can represent import features from text into numbers.Although it doesnt account the context and meaning of word.It is statical way of representing features.\r\n",
        "\r\n",
        "\r\n",
        "Feature Engineering is often known as the secret sauce to creating superior and better performing machine learning models.In nlp we need to build pre-processing pipeline like:\r\n",
        "\r\n",
        "Removing tags\r\n",
        "\r\n",
        "Removing accented characters\r\n",
        "\r\n",
        "Expanding contractions\r\n",
        "\r\n",
        "Removing special characters\r\n",
        "\r\n",
        "Stemming and lemmatization\r\n",
        "\r\n",
        "Removing stopwords\r\n",
        "\r\n",
        "\r\n",
        "\r\n",
        "\r\n",
        "---\r\n",
        "\r\n"
      ]
    },
    {
      "cell_type": "code",
      "metadata": {
        "id": "eM6XpDQcHU4L"
      },
      "source": [
        "import pandas as pd\r\n",
        "from sklearn.feature_extraction.text import TfidfVectorizer"
      ],
      "execution_count": 1,
      "outputs": []
    },
    {
      "cell_type": "code",
      "metadata": {
        "id": "DdJgYggQHjSQ"
      },
      "source": [
        "documentA = 'the man went out for a walk'\r\n",
        "documentB = 'the children sat around the fire'"
      ],
      "execution_count": 2,
      "outputs": []
    },
    {
      "cell_type": "code",
      "metadata": {
        "id": "MfrDJ7LsHhDS"
      },
      "source": [
        "bagOfWordsA = documentA.split(' ')\r\n",
        "bagOfWordsB = documentB.split(' ')"
      ],
      "execution_count": 3,
      "outputs": []
    },
    {
      "cell_type": "code",
      "metadata": {
        "colab": {
          "base_uri": "https://localhost:8080/"
        },
        "id": "IxWJZID0Hph9",
        "outputId": "761b577b-4065-4d59-cb83-7a8e4ad0bd0d"
      },
      "source": [
        "uniqueWords = set(bagOfWordsA).union(set(bagOfWordsB))\r\n",
        "uniqueWords"
      ],
      "execution_count": 12,
      "outputs": [
        {
          "output_type": "execute_result",
          "data": {
            "text/plain": [
              "{'a',\n",
              " 'around',\n",
              " 'children',\n",
              " 'fire',\n",
              " 'for',\n",
              " 'man',\n",
              " 'out',\n",
              " 'sat',\n",
              " 'the',\n",
              " 'walk',\n",
              " 'went'}"
            ]
          },
          "metadata": {
            "tags": []
          },
          "execution_count": 12
        }
      ]
    },
    {
      "cell_type": "code",
      "metadata": {
        "id": "tMK9e0pdKmrE"
      },
      "source": [
        "numOfWordsA = dict.fromkeys(uniqueWords, 0)\r\n",
        "for word in bagOfWordsA:\r\n",
        "    numOfWordsA[word] += 1\r\n",
        "numOfWordsB = dict.fromkeys(uniqueWords, 0)\r\n",
        "for word in bagOfWordsB:\r\n",
        "    numOfWordsB[word] += 1"
      ],
      "execution_count": 6,
      "outputs": []
    },
    {
      "cell_type": "code",
      "metadata": {
        "id": "33P_x5JNHtxt"
      },
      "source": [
        "def computeTF(wordDict,bagOfWords):\r\n",
        "  tfDict={}\r\n",
        "  bagOfWordsCount=len(bagOfWords)\r\n",
        "  for word,count in wordDict.items():\r\n",
        "    tfDict[word] = count / float(bagOfWordsCount)\r\n",
        "  return tfDict  \r\n"
      ],
      "execution_count": 17,
      "outputs": []
    },
    {
      "cell_type": "code",
      "metadata": {
        "colab": {
          "base_uri": "https://localhost:8080/"
        },
        "id": "DLEw_zIOKyWF",
        "outputId": "86d6760e-be49-434a-a428-51d36e997779"
      },
      "source": [
        "bagOfWordsA"
      ],
      "execution_count": 18,
      "outputs": [
        {
          "output_type": "execute_result",
          "data": {
            "text/plain": [
              "['the', 'man', 'went', 'out', 'for', 'a', 'walk']"
            ]
          },
          "metadata": {
            "tags": []
          },
          "execution_count": 18
        }
      ]
    },
    {
      "cell_type": "code",
      "metadata": {
        "id": "gh5NQszWKaYC"
      },
      "source": [
        "tfA = computeTF(numOfWordsA, bagOfWordsA)\r\n",
        "tfB = computeTF(numOfWordsB, bagOfWordsB)"
      ],
      "execution_count": 20,
      "outputs": []
    },
    {
      "cell_type": "code",
      "metadata": {
        "colab": {
          "base_uri": "https://localhost:8080/"
        },
        "id": "JFmg_n6sOedi",
        "outputId": "541ed557-951d-4786-ab6a-7b3be117a401"
      },
      "source": [
        "tfA"
      ],
      "execution_count": 31,
      "outputs": [
        {
          "output_type": "execute_result",
          "data": {
            "text/plain": [
              "{'a': 0.14285714285714285,\n",
              " 'around': 0.0,\n",
              " 'children': 0.0,\n",
              " 'fire': 0.0,\n",
              " 'for': 0.14285714285714285,\n",
              " 'man': 0.14285714285714285,\n",
              " 'out': 0.14285714285714285,\n",
              " 'sat': 0.0,\n",
              " 'the': 0.14285714285714285,\n",
              " 'walk': 0.14285714285714285,\n",
              " 'went': 0.14285714285714285}"
            ]
          },
          "metadata": {
            "tags": []
          },
          "execution_count": 31
        }
      ]
    },
    {
      "cell_type": "markdown",
      "metadata": {
        "id": "r0uyZiyWM9R8"
      },
      "source": [
        "The log of the number of documents divided by the number of documents that contain the word w. Inverse data frequency determines the weight of rare words across all documents in the corpus.\r\n"
      ]
    },
    {
      "cell_type": "code",
      "metadata": {
        "id": "o9xjLbAPLVKP"
      },
      "source": [
        "def computeIDF(documents):\r\n",
        "    import math\r\n",
        "    N = len(documents)\r\n",
        "    \r\n",
        "    idfDict = dict.fromkeys(documents[0].keys(), 0)\r\n",
        "    for document in documents:\r\n",
        "        for word, val in document.items():\r\n",
        "            if val > 0:\r\n",
        "                idfDict[word] += 1\r\n",
        "    \r\n",
        "    for word, val in idfDict.items():\r\n",
        "        idfDict[word] = math.log(N / float(val))\r\n",
        "    return idfDict"
      ],
      "execution_count": 23,
      "outputs": []
    },
    {
      "cell_type": "code",
      "metadata": {
        "id": "VOjJpJOeNFNb"
      },
      "source": [
        "idfs=computeIDF([numOfWordsA, numOfWordsB])"
      ],
      "execution_count": 27,
      "outputs": []
    },
    {
      "cell_type": "code",
      "metadata": {
        "colab": {
          "base_uri": "https://localhost:8080/"
        },
        "id": "J5Gi0CgHOuY6",
        "outputId": "9a4dd7b7-536b-4d6e-a3df-2c9b0e5a0929"
      },
      "source": [
        "idfs"
      ],
      "execution_count": 32,
      "outputs": [
        {
          "output_type": "execute_result",
          "data": {
            "text/plain": [
              "{'a': 0.6931471805599453,\n",
              " 'around': 0.6931471805599453,\n",
              " 'children': 0.6931471805599453,\n",
              " 'fire': 0.6931471805599453,\n",
              " 'for': 0.6931471805599453,\n",
              " 'man': 0.6931471805599453,\n",
              " 'out': 0.6931471805599453,\n",
              " 'sat': 0.6931471805599453,\n",
              " 'the': 0.0,\n",
              " 'walk': 0.6931471805599453,\n",
              " 'went': 0.6931471805599453}"
            ]
          },
          "metadata": {
            "tags": []
          },
          "execution_count": 32
        }
      ]
    },
    {
      "cell_type": "code",
      "metadata": {
        "id": "j-W9f7NyNryx"
      },
      "source": [
        "def computeTFIDF(tfBagOfWords, idfs):\r\n",
        "    tfidf = {}\r\n",
        "    for word, val in tfBagOfWords.items():\r\n",
        "        tfidf[word] = val * idfs[word]\r\n",
        "    return tfidf"
      ],
      "execution_count": 28,
      "outputs": []
    },
    {
      "cell_type": "code",
      "metadata": {
        "id": "4mpOOATmOB8n"
      },
      "source": [
        "tfidfA = computeTFIDF(tfA, idfs)\r\n",
        "tfidfB = computeTFIDF(tfB, idfs)\r\n",
        "df = pd.DataFrame([tfidfA, tfidfB])"
      ],
      "execution_count": 29,
      "outputs": []
    },
    {
      "cell_type": "code",
      "metadata": {
        "colab": {
          "base_uri": "https://localhost:8080/",
          "height": 107
        },
        "id": "MZCAC5MvODaO",
        "outputId": "8b1add54-5363-4893-eb35-d6541c81a10f"
      },
      "source": [
        "df.head"
      ],
      "execution_count": 30,
      "outputs": [
        {
          "output_type": "execute_result",
          "data": {
            "text/html": [
              "<div>\n",
              "<style scoped>\n",
              "    .dataframe tbody tr th:only-of-type {\n",
              "        vertical-align: middle;\n",
              "    }\n",
              "\n",
              "    .dataframe tbody tr th {\n",
              "        vertical-align: top;\n",
              "    }\n",
              "\n",
              "    .dataframe thead th {\n",
              "        text-align: right;\n",
              "    }\n",
              "</style>\n",
              "<table border=\"1\" class=\"dataframe\">\n",
              "  <thead>\n",
              "    <tr style=\"text-align: right;\">\n",
              "      <th></th>\n",
              "      <th>out</th>\n",
              "      <th>around</th>\n",
              "      <th>man</th>\n",
              "      <th>fire</th>\n",
              "      <th>walk</th>\n",
              "      <th>the</th>\n",
              "      <th>sat</th>\n",
              "      <th>went</th>\n",
              "      <th>children</th>\n",
              "      <th>for</th>\n",
              "      <th>a</th>\n",
              "    </tr>\n",
              "  </thead>\n",
              "  <tbody>\n",
              "    <tr>\n",
              "      <th>0</th>\n",
              "      <td>0.099021</td>\n",
              "      <td>0.000000</td>\n",
              "      <td>0.099021</td>\n",
              "      <td>0.000000</td>\n",
              "      <td>0.099021</td>\n",
              "      <td>0.0</td>\n",
              "      <td>0.000000</td>\n",
              "      <td>0.099021</td>\n",
              "      <td>0.000000</td>\n",
              "      <td>0.099021</td>\n",
              "      <td>0.099021</td>\n",
              "    </tr>\n",
              "    <tr>\n",
              "      <th>1</th>\n",
              "      <td>0.000000</td>\n",
              "      <td>0.115525</td>\n",
              "      <td>0.000000</td>\n",
              "      <td>0.115525</td>\n",
              "      <td>0.000000</td>\n",
              "      <td>0.0</td>\n",
              "      <td>0.115525</td>\n",
              "      <td>0.000000</td>\n",
              "      <td>0.115525</td>\n",
              "      <td>0.000000</td>\n",
              "      <td>0.000000</td>\n",
              "    </tr>\n",
              "  </tbody>\n",
              "</table>\n",
              "</div>"
            ],
            "text/plain": [
              "        out    around       man  ...  children       for         a\n",
              "0  0.099021  0.000000  0.099021  ...  0.000000  0.099021  0.099021\n",
              "1  0.000000  0.115525  0.000000  ...  0.115525  0.000000  0.000000\n",
              "\n",
              "[2 rows x 11 columns]"
            ]
          },
          "metadata": {
            "tags": []
          },
          "execution_count": 30
        }
      ]
    },
    {
      "cell_type": "markdown",
      "metadata": {
        "id": "OR27jutTPyqH"
      },
      "source": [
        "**Sklearn feature extraction provdes inbuilt vectorizer for above functionality**"
      ]
    },
    {
      "cell_type": "code",
      "metadata": {
        "colab": {
          "base_uri": "https://localhost:8080/"
        },
        "id": "F3aGyp27QwZt",
        "outputId": "dfc07095-58ff-4f7f-8c12-4e184d15f87c"
      },
      "source": [
        "vectorizer = TfidfVectorizer()\r\n",
        "vectors = vectorizer.fit_transform([documentA, documentB])\r\n",
        "vectors.shape"
      ],
      "execution_count": 36,
      "outputs": [
        {
          "output_type": "execute_result",
          "data": {
            "text/plain": [
              "(2, 10)"
            ]
          },
          "metadata": {
            "tags": []
          },
          "execution_count": 36
        }
      ]
    },
    {
      "cell_type": "code",
      "metadata": {
        "id": "de1shYOmRxE8"
      },
      "source": [
        "feature_names = vectorizer.get_feature_names()"
      ],
      "execution_count": 37,
      "outputs": []
    },
    {
      "cell_type": "code",
      "metadata": {
        "colab": {
          "base_uri": "https://localhost:8080/"
        },
        "id": "5REoIz7SSAIi",
        "outputId": "f63dc8f4-1c19-47de-b889-38d9b6b980ab"
      },
      "source": [
        "dense = vectors.todense()\r\n",
        "denselist = dense.tolist()"
      ],
      "execution_count": 39,
      "outputs": [
        {
          "output_type": "execute_result",
          "data": {
            "text/plain": [
              "(2, 10)"
            ]
          },
          "metadata": {
            "tags": []
          },
          "execution_count": 39
        }
      ]
    },
    {
      "cell_type": "code",
      "metadata": {
        "id": "XZ1_VRw7SCkA"
      },
      "source": [
        "df = pd.DataFrame(denselist, columns=feature_names)"
      ],
      "execution_count": 41,
      "outputs": []
    },
    {
      "cell_type": "code",
      "metadata": {
        "colab": {
          "base_uri": "https://localhost:8080/",
          "height": 107
        },
        "id": "bp0jpne4SQDh",
        "outputId": "06b10746-7e3b-452c-c36b-d25b12d9946c"
      },
      "source": [
        "df.head()"
      ],
      "execution_count": 42,
      "outputs": [
        {
          "output_type": "execute_result",
          "data": {
            "text/html": [
              "<div>\n",
              "<style scoped>\n",
              "    .dataframe tbody tr th:only-of-type {\n",
              "        vertical-align: middle;\n",
              "    }\n",
              "\n",
              "    .dataframe tbody tr th {\n",
              "        vertical-align: top;\n",
              "    }\n",
              "\n",
              "    .dataframe thead th {\n",
              "        text-align: right;\n",
              "    }\n",
              "</style>\n",
              "<table border=\"1\" class=\"dataframe\">\n",
              "  <thead>\n",
              "    <tr style=\"text-align: right;\">\n",
              "      <th></th>\n",
              "      <th>around</th>\n",
              "      <th>children</th>\n",
              "      <th>fire</th>\n",
              "      <th>for</th>\n",
              "      <th>man</th>\n",
              "      <th>out</th>\n",
              "      <th>sat</th>\n",
              "      <th>the</th>\n",
              "      <th>walk</th>\n",
              "      <th>went</th>\n",
              "    </tr>\n",
              "  </thead>\n",
              "  <tbody>\n",
              "    <tr>\n",
              "      <th>0</th>\n",
              "      <td>0.000000</td>\n",
              "      <td>0.000000</td>\n",
              "      <td>0.000000</td>\n",
              "      <td>0.42616</td>\n",
              "      <td>0.42616</td>\n",
              "      <td>0.42616</td>\n",
              "      <td>0.000000</td>\n",
              "      <td>0.303216</td>\n",
              "      <td>0.42616</td>\n",
              "      <td>0.42616</td>\n",
              "    </tr>\n",
              "    <tr>\n",
              "      <th>1</th>\n",
              "      <td>0.407401</td>\n",
              "      <td>0.407401</td>\n",
              "      <td>0.407401</td>\n",
              "      <td>0.00000</td>\n",
              "      <td>0.00000</td>\n",
              "      <td>0.00000</td>\n",
              "      <td>0.407401</td>\n",
              "      <td>0.579739</td>\n",
              "      <td>0.00000</td>\n",
              "      <td>0.00000</td>\n",
              "    </tr>\n",
              "  </tbody>\n",
              "</table>\n",
              "</div>"
            ],
            "text/plain": [
              "     around  children      fire      for  ...       sat       the     walk     went\n",
              "0  0.000000  0.000000  0.000000  0.42616  ...  0.000000  0.303216  0.42616  0.42616\n",
              "1  0.407401  0.407401  0.407401  0.00000  ...  0.407401  0.579739  0.00000  0.00000\n",
              "\n",
              "[2 rows x 10 columns]"
            ]
          },
          "metadata": {
            "tags": []
          },
          "execution_count": 42
        }
      ]
    },
    {
      "cell_type": "markdown",
      "metadata": {
        "id": "L9ZPeezdaPxt"
      },
      "source": [
        "**Business use case**\r\n",
        "\r\n",
        "Identifying high impact exceptions to reduce production downtime using previous experience of high impact exceptions.\r\n",
        "\r\n",
        "Assumptions: We have pattern/differentiator to identify high imapct and no impact exception categories.\r\n",
        "\r\n",
        "**Key concepts:**\r\n",
        "\r\n",
        "\r\n",
        "1.   TF-IDF matrix\r\n",
        "2.   Cosine similarity-Cosine similarity basically gives us a metric representing the cosine of the angle between the feature vector representations of two text documents. Lower the angle between the documents, the closer and more similar they are.\r\n",
        "\r\n",
        "\r\n",
        "Training data\r\n",
        "Testing data\r\n",
        "\r\n",
        "**Accuracy evaluation ** \r\n",
        "\r\n",
        "classification of statements based of probability threshold \r\n",
        "\r\n",
        "Document similarity is the process of using a distance or similarity based metric that can be used to identify how similar a text document is with any other document(s) based on features extracted from the documents like bag of words or tf-idf.\r\n",
        "\r\n",
        "\r\n",
        "**Steps involved to solve this problem:**\r\n",
        "\r\n",
        "1.Get the exception strings.\r\n",
        "\r\n",
        "2.Clean up the text(pre-processing pipeline)\r\n",
        "\r\n",
        "3.Filter the high impact exception strings using tri-gram search.(We had 22 exception classes on basis of which we searched unique excetions from cleaned exceptions  and labeled them as \"High Impact\" and rest of others can be labeled as \"No impact\")\r\n",
        "(Here we have annotated data)\r\n",
        "\r\n",
        "3.Create bag of word model for both classes \"Impact\" and \"No Imapct\"\r\n",
        "\r\n",
        "4.Data visualization -word cloud, frequency graphs etc and deriving useful insights.Check if we are finding differentiating features between \"imapct\" and \"no impact\" class.If we have differentiating features we are good to go for model building.\r\n",
        "\r\n",
        "5.Split the \"Impact\" labeled data into train and test (80:20)\r\n",
        "(we were having this class less in numbers)\r\n",
        "\r\n",
        "6.split the \"No Impact\" labeled data into train and test (70:30)\r\n",
        "(had enough data)\r\n",
        "\r\n",
        "7.Here we are building 2 seperate statistical matrix for \"Impact\" and \"No impact\"\r\n",
        "\r\n",
        "8.Apply tfidf vectorizer on \"Impact\" train data(Save the matrix-numpy) and save the transformer as well\r\n",
        "\r\n",
        "9.Apply tfidf vectorizer on \"No impact\" train data (save matrix-numpy) and save the transformer as well\r\n",
        "\r\n",
        "10.Now 2 models are ready with us\r\n",
        "\r\n",
        "11.Get the test data for impact and get \"impact\" statistical model.\r\n",
        "transform test data and find the document similarity with each row in matrix.More the similarity higher the confidence to mark it as \"Impact\" and reverse holds true.\r\n",
        "\r\n",
        "**How second model is useful??**\r\n",
        "\r\n",
        "If \"New Exception\" comes in in the environment(New developer wrote some new pattern exception different from existing pattern of high/no impact) must go under manual observation called \"USER FEEDBACK\".If \"No imapct\" as well as \"impact\"model gives low similarity score it should go for user feedback treating it as \"New\" exception.If expert advised it as \"High impact\" we have to resolve the exception and whether to re-train the model with new category or not is totally the business decision.\r\n"
      ]
    },
    {
      "cell_type": "markdown",
      "metadata": {
        "id": "gU5hylrHy0ed"
      },
      "source": [
        "![image.png](data:image/png;base64,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)"
      ]
    },
    {
      "cell_type": "markdown",
      "metadata": {
        "id": "pb6-suI1zu5G"
      },
      "source": [
        "**It follow following kind of pipeline**"
      ]
    },
    {
      "cell_type": "code",
      "metadata": {
        "colab": {
          "base_uri": "https://localhost:8080/"
        },
        "id": "fbkScyBQz4US",
        "outputId": "99ab364a-4ba2-4250-a21d-231f421e010b"
      },
      "source": [
        "import numpy as np\r\n",
        "import re\r\n",
        "import nltk\r\n",
        "\r\n",
        "nltk.download('stopwords')"
      ],
      "execution_count": 53,
      "outputs": [
        {
          "output_type": "stream",
          "text": [
            "[nltk_data] Downloading package stopwords to /root/nltk_data...\n",
            "[nltk_data]   Package stopwords is already up-to-date!\n"
          ],
          "name": "stdout"
        },
        {
          "output_type": "execute_result",
          "data": {
            "text/plain": [
              "True"
            ]
          },
          "metadata": {
            "tags": []
          },
          "execution_count": 53
        }
      ]
    },
    {
      "cell_type": "code",
      "metadata": {
        "colab": {
          "base_uri": "https://localhost:8080/",
          "height": 287
        },
        "id": "vCX-3JBrqI55",
        "outputId": "b7cc0e9b-130e-4771-b3e4-f0cf9edd51b0"
      },
      "source": [
        "corpus = ['The sky is blue and beautiful.',\r\n",
        "          'Love this blue and beautiful sky!',\r\n",
        "          'The quick brown fox jumps over the lazy dog.',\r\n",
        "          \"A king's breakfast has sausages, ham, bacon, eggs, toast and beans\",\r\n",
        "          'I love green eggs, ham, sausages and bacon!',\r\n",
        "          'The brown fox is quick and the blue dog is lazy!',\r\n",
        "          'The sky is very blue and the sky is very beautiful today',\r\n",
        "          'The dog is lazy but the brown fox is quick!'    \r\n",
        "]\r\n",
        "labels = ['weather', 'weather', 'animals', 'food', 'food', 'animals', 'weather', 'animals']\r\n",
        "\r\n",
        "corpus = np.array(corpus)\r\n",
        "corpus_df = pd.DataFrame({'Document': corpus, \r\n",
        "                          'Category': labels})\r\n",
        "corpus_df = corpus_df[['Document', 'Category']]\r\n",
        "corpus_df"
      ],
      "execution_count": 49,
      "outputs": [
        {
          "output_type": "execute_result",
          "data": {
            "text/html": [
              "<div>\n",
              "<style scoped>\n",
              "    .dataframe tbody tr th:only-of-type {\n",
              "        vertical-align: middle;\n",
              "    }\n",
              "\n",
              "    .dataframe tbody tr th {\n",
              "        vertical-align: top;\n",
              "    }\n",
              "\n",
              "    .dataframe thead th {\n",
              "        text-align: right;\n",
              "    }\n",
              "</style>\n",
              "<table border=\"1\" class=\"dataframe\">\n",
              "  <thead>\n",
              "    <tr style=\"text-align: right;\">\n",
              "      <th></th>\n",
              "      <th>Document</th>\n",
              "      <th>Category</th>\n",
              "    </tr>\n",
              "  </thead>\n",
              "  <tbody>\n",
              "    <tr>\n",
              "      <th>0</th>\n",
              "      <td>The sky is blue and beautiful.</td>\n",
              "      <td>weather</td>\n",
              "    </tr>\n",
              "    <tr>\n",
              "      <th>1</th>\n",
              "      <td>Love this blue and beautiful sky!</td>\n",
              "      <td>weather</td>\n",
              "    </tr>\n",
              "    <tr>\n",
              "      <th>2</th>\n",
              "      <td>The quick brown fox jumps over the lazy dog.</td>\n",
              "      <td>animals</td>\n",
              "    </tr>\n",
              "    <tr>\n",
              "      <th>3</th>\n",
              "      <td>A king's breakfast has sausages, ham, bacon, e...</td>\n",
              "      <td>food</td>\n",
              "    </tr>\n",
              "    <tr>\n",
              "      <th>4</th>\n",
              "      <td>I love green eggs, ham, sausages and bacon!</td>\n",
              "      <td>food</td>\n",
              "    </tr>\n",
              "    <tr>\n",
              "      <th>5</th>\n",
              "      <td>The brown fox is quick and the blue dog is lazy!</td>\n",
              "      <td>animals</td>\n",
              "    </tr>\n",
              "    <tr>\n",
              "      <th>6</th>\n",
              "      <td>The sky is very blue and the sky is very beaut...</td>\n",
              "      <td>weather</td>\n",
              "    </tr>\n",
              "    <tr>\n",
              "      <th>7</th>\n",
              "      <td>The dog is lazy but the brown fox is quick!</td>\n",
              "      <td>animals</td>\n",
              "    </tr>\n",
              "  </tbody>\n",
              "</table>\n",
              "</div>"
            ],
            "text/plain": [
              "                                            Document Category\n",
              "0                     The sky is blue and beautiful.  weather\n",
              "1                  Love this blue and beautiful sky!  weather\n",
              "2       The quick brown fox jumps over the lazy dog.  animals\n",
              "3  A king's breakfast has sausages, ham, bacon, e...     food\n",
              "4        I love green eggs, ham, sausages and bacon!     food\n",
              "5   The brown fox is quick and the blue dog is lazy!  animals\n",
              "6  The sky is very blue and the sky is very beaut...  weather\n",
              "7        The dog is lazy but the brown fox is quick!  animals"
            ]
          },
          "metadata": {
            "tags": []
          },
          "execution_count": 49
        }
      ]
    },
    {
      "cell_type": "code",
      "metadata": {
        "colab": {
          "base_uri": "https://localhost:8080/"
        },
        "id": "6ppzl9AMoYH0",
        "outputId": "747917ac-2098-4b2d-dfd1-80e57d53f32c"
      },
      "source": [
        "wpt = nltk.WordPunctTokenizer()\r\n",
        "stop_words = nltk.corpus.stopwords.words('english')\r\n",
        "\r\n",
        "def normalize_document(doc):\r\n",
        "    # lower case and remove special characters\\whitespaces\r\n",
        "    doc = re.sub(r'[^a-zA-Z\\s]', '', doc, re.I|re.A)\r\n",
        "    doc = doc.lower()\r\n",
        "    doc = doc.strip()\r\n",
        "    # tokenize document\r\n",
        "    tokens = wpt.tokenize(doc)\r\n",
        "    # filter stopwords out of document\r\n",
        "    filtered_tokens = [token for token in tokens if token not in stop_words]\r\n",
        "    # re-create document from filtered tokens\r\n",
        "    doc = ' '.join(filtered_tokens)\r\n",
        "    return doc\r\n",
        "\r\n",
        "normalize_corpus = np.vectorize(normalize_document)\r\n",
        "\r\n",
        "norm_corpus = normalize_corpus(corpus)\r\n",
        "norm_corpus"
      ],
      "execution_count": 54,
      "outputs": [
        {
          "output_type": "execute_result",
          "data": {
            "text/plain": [
              "array(['sky blue beautiful', 'love blue beautiful sky',\n",
              "       'quick brown fox jumps lazy dog',\n",
              "       'kings breakfast sausages ham bacon eggs toast beans',\n",
              "       'love green eggs ham sausages bacon',\n",
              "       'brown fox quick blue dog lazy', 'sky blue sky beautiful today',\n",
              "       'dog lazy brown fox quick'], dtype='<U51')"
            ]
          },
          "metadata": {
            "tags": []
          },
          "execution_count": 54
        }
      ]
    },
    {
      "cell_type": "code",
      "metadata": {
        "colab": {
          "base_uri": "https://localhost:8080/"
        },
        "id": "KVa66rPsbBwZ",
        "outputId": "ef1a4b86-b61c-430f-fa37-1d09dbb1d034"
      },
      "source": [
        "from sklearn.feature_extraction.text import CountVectorizer\r\n",
        "\r\n",
        "cv = CountVectorizer(min_df=0., max_df=1.)\r\n",
        "cv_matrix = cv.fit_transform(norm_corpus)\r\n",
        "cv_matrix = cv_matrix.toarray()\r\n",
        "cv_matrix"
      ],
      "execution_count": 55,
      "outputs": [
        {
          "output_type": "execute_result",
          "data": {
            "text/plain": [
              "array([[0, 0, 1, 1, 0, 0, 0, 0, 0, 0, 0, 0, 0, 0, 0, 0, 0, 1, 0, 0],\n",
              "       [0, 0, 1, 1, 0, 0, 0, 0, 0, 0, 0, 0, 0, 0, 1, 0, 0, 1, 0, 0],\n",
              "       [0, 0, 0, 0, 0, 1, 1, 0, 1, 0, 0, 1, 0, 1, 0, 1, 0, 0, 0, 0],\n",
              "       [1, 1, 0, 0, 1, 0, 0, 1, 0, 0, 1, 0, 1, 0, 0, 0, 1, 0, 1, 0],\n",
              "       [1, 0, 0, 0, 0, 0, 0, 1, 0, 1, 1, 0, 0, 0, 1, 0, 1, 0, 0, 0],\n",
              "       [0, 0, 0, 1, 0, 1, 1, 0, 1, 0, 0, 0, 0, 1, 0, 1, 0, 0, 0, 0],\n",
              "       [0, 0, 1, 1, 0, 0, 0, 0, 0, 0, 0, 0, 0, 0, 0, 0, 0, 2, 0, 1],\n",
              "       [0, 0, 0, 0, 0, 1, 1, 0, 1, 0, 0, 0, 0, 1, 0, 1, 0, 0, 0, 0]])"
            ]
          },
          "metadata": {
            "tags": []
          },
          "execution_count": 55
        }
      ]
    },
    {
      "cell_type": "code",
      "metadata": {
        "colab": {
          "base_uri": "https://localhost:8080/",
          "height": 287
        },
        "id": "2a-LgMZx0Jx4",
        "outputId": "78aaba7f-92a5-4ab0-a3f6-fbb6eb9ba66e"
      },
      "source": [
        "# get all unique words in the corpus\r\n",
        "vocab = cv.get_feature_names()\r\n",
        "# show document feature vectors\r\n",
        "pd.DataFrame(cv_matrix, columns=vocab)"
      ],
      "execution_count": 56,
      "outputs": [
        {
          "output_type": "execute_result",
          "data": {
            "text/html": [
              "<div>\n",
              "<style scoped>\n",
              "    .dataframe tbody tr th:only-of-type {\n",
              "        vertical-align: middle;\n",
              "    }\n",
              "\n",
              "    .dataframe tbody tr th {\n",
              "        vertical-align: top;\n",
              "    }\n",
              "\n",
              "    .dataframe thead th {\n",
              "        text-align: right;\n",
              "    }\n",
              "</style>\n",
              "<table border=\"1\" class=\"dataframe\">\n",
              "  <thead>\n",
              "    <tr style=\"text-align: right;\">\n",
              "      <th></th>\n",
              "      <th>bacon</th>\n",
              "      <th>beans</th>\n",
              "      <th>beautiful</th>\n",
              "      <th>blue</th>\n",
              "      <th>breakfast</th>\n",
              "      <th>brown</th>\n",
              "      <th>dog</th>\n",
              "      <th>eggs</th>\n",
              "      <th>fox</th>\n",
              "      <th>green</th>\n",
              "      <th>ham</th>\n",
              "      <th>jumps</th>\n",
              "      <th>kings</th>\n",
              "      <th>lazy</th>\n",
              "      <th>love</th>\n",
              "      <th>quick</th>\n",
              "      <th>sausages</th>\n",
              "      <th>sky</th>\n",
              "      <th>toast</th>\n",
              "      <th>today</th>\n",
              "    </tr>\n",
              "  </thead>\n",
              "  <tbody>\n",
              "    <tr>\n",
              "      <th>0</th>\n",
              "      <td>0</td>\n",
              "      <td>0</td>\n",
              "      <td>1</td>\n",
              "      <td>1</td>\n",
              "      <td>0</td>\n",
              "      <td>0</td>\n",
              "      <td>0</td>\n",
              "      <td>0</td>\n",
              "      <td>0</td>\n",
              "      <td>0</td>\n",
              "      <td>0</td>\n",
              "      <td>0</td>\n",
              "      <td>0</td>\n",
              "      <td>0</td>\n",
              "      <td>0</td>\n",
              "      <td>0</td>\n",
              "      <td>0</td>\n",
              "      <td>1</td>\n",
              "      <td>0</td>\n",
              "      <td>0</td>\n",
              "    </tr>\n",
              "    <tr>\n",
              "      <th>1</th>\n",
              "      <td>0</td>\n",
              "      <td>0</td>\n",
              "      <td>1</td>\n",
              "      <td>1</td>\n",
              "      <td>0</td>\n",
              "      <td>0</td>\n",
              "      <td>0</td>\n",
              "      <td>0</td>\n",
              "      <td>0</td>\n",
              "      <td>0</td>\n",
              "      <td>0</td>\n",
              "      <td>0</td>\n",
              "      <td>0</td>\n",
              "      <td>0</td>\n",
              "      <td>1</td>\n",
              "      <td>0</td>\n",
              "      <td>0</td>\n",
              "      <td>1</td>\n",
              "      <td>0</td>\n",
              "      <td>0</td>\n",
              "    </tr>\n",
              "    <tr>\n",
              "      <th>2</th>\n",
              "      <td>0</td>\n",
              "      <td>0</td>\n",
              "      <td>0</td>\n",
              "      <td>0</td>\n",
              "      <td>0</td>\n",
              "      <td>1</td>\n",
              "      <td>1</td>\n",
              "      <td>0</td>\n",
              "      <td>1</td>\n",
              "      <td>0</td>\n",
              "      <td>0</td>\n",
              "      <td>1</td>\n",
              "      <td>0</td>\n",
              "      <td>1</td>\n",
              "      <td>0</td>\n",
              "      <td>1</td>\n",
              "      <td>0</td>\n",
              "      <td>0</td>\n",
              "      <td>0</td>\n",
              "      <td>0</td>\n",
              "    </tr>\n",
              "    <tr>\n",
              "      <th>3</th>\n",
              "      <td>1</td>\n",
              "      <td>1</td>\n",
              "      <td>0</td>\n",
              "      <td>0</td>\n",
              "      <td>1</td>\n",
              "      <td>0</td>\n",
              "      <td>0</td>\n",
              "      <td>1</td>\n",
              "      <td>0</td>\n",
              "      <td>0</td>\n",
              "      <td>1</td>\n",
              "      <td>0</td>\n",
              "      <td>1</td>\n",
              "      <td>0</td>\n",
              "      <td>0</td>\n",
              "      <td>0</td>\n",
              "      <td>1</td>\n",
              "      <td>0</td>\n",
              "      <td>1</td>\n",
              "      <td>0</td>\n",
              "    </tr>\n",
              "    <tr>\n",
              "      <th>4</th>\n",
              "      <td>1</td>\n",
              "      <td>0</td>\n",
              "      <td>0</td>\n",
              "      <td>0</td>\n",
              "      <td>0</td>\n",
              "      <td>0</td>\n",
              "      <td>0</td>\n",
              "      <td>1</td>\n",
              "      <td>0</td>\n",
              "      <td>1</td>\n",
              "      <td>1</td>\n",
              "      <td>0</td>\n",
              "      <td>0</td>\n",
              "      <td>0</td>\n",
              "      <td>1</td>\n",
              "      <td>0</td>\n",
              "      <td>1</td>\n",
              "      <td>0</td>\n",
              "      <td>0</td>\n",
              "      <td>0</td>\n",
              "    </tr>\n",
              "    <tr>\n",
              "      <th>5</th>\n",
              "      <td>0</td>\n",
              "      <td>0</td>\n",
              "      <td>0</td>\n",
              "      <td>1</td>\n",
              "      <td>0</td>\n",
              "      <td>1</td>\n",
              "      <td>1</td>\n",
              "      <td>0</td>\n",
              "      <td>1</td>\n",
              "      <td>0</td>\n",
              "      <td>0</td>\n",
              "      <td>0</td>\n",
              "      <td>0</td>\n",
              "      <td>1</td>\n",
              "      <td>0</td>\n",
              "      <td>1</td>\n",
              "      <td>0</td>\n",
              "      <td>0</td>\n",
              "      <td>0</td>\n",
              "      <td>0</td>\n",
              "    </tr>\n",
              "    <tr>\n",
              "      <th>6</th>\n",
              "      <td>0</td>\n",
              "      <td>0</td>\n",
              "      <td>1</td>\n",
              "      <td>1</td>\n",
              "      <td>0</td>\n",
              "      <td>0</td>\n",
              "      <td>0</td>\n",
              "      <td>0</td>\n",
              "      <td>0</td>\n",
              "      <td>0</td>\n",
              "      <td>0</td>\n",
              "      <td>0</td>\n",
              "      <td>0</td>\n",
              "      <td>0</td>\n",
              "      <td>0</td>\n",
              "      <td>0</td>\n",
              "      <td>0</td>\n",
              "      <td>2</td>\n",
              "      <td>0</td>\n",
              "      <td>1</td>\n",
              "    </tr>\n",
              "    <tr>\n",
              "      <th>7</th>\n",
              "      <td>0</td>\n",
              "      <td>0</td>\n",
              "      <td>0</td>\n",
              "      <td>0</td>\n",
              "      <td>0</td>\n",
              "      <td>1</td>\n",
              "      <td>1</td>\n",
              "      <td>0</td>\n",
              "      <td>1</td>\n",
              "      <td>0</td>\n",
              "      <td>0</td>\n",
              "      <td>0</td>\n",
              "      <td>0</td>\n",
              "      <td>1</td>\n",
              "      <td>0</td>\n",
              "      <td>1</td>\n",
              "      <td>0</td>\n",
              "      <td>0</td>\n",
              "      <td>0</td>\n",
              "      <td>0</td>\n",
              "    </tr>\n",
              "  </tbody>\n",
              "</table>\n",
              "</div>"
            ],
            "text/plain": [
              "   bacon  beans  beautiful  blue  breakfast  ...  quick  sausages  sky  toast  today\n",
              "0      0      0          1     1          0  ...      0         0    1      0      0\n",
              "1      0      0          1     1          0  ...      0         0    1      0      0\n",
              "2      0      0          0     0          0  ...      1         0    0      0      0\n",
              "3      1      1          0     0          1  ...      0         1    0      1      0\n",
              "4      1      0          0     0          0  ...      0         1    0      0      0\n",
              "5      0      0          0     1          0  ...      1         0    0      0      0\n",
              "6      0      0          1     1          0  ...      0         0    2      0      1\n",
              "7      0      0          0     0          0  ...      1         0    0      0      0\n",
              "\n",
              "[8 rows x 20 columns]"
            ]
          },
          "metadata": {
            "tags": []
          },
          "execution_count": 56
        }
      ]
    },
    {
      "cell_type": "code",
      "metadata": {
        "colab": {
          "base_uri": "https://localhost:8080/",
          "height": 324
        },
        "id": "nRcuSZCI0cJt",
        "outputId": "705bd3fa-eebb-4eee-908b-f34500786b0c"
      },
      "source": [
        "# you can set the n-gram range to 1,2 to get unigrams as well as bigrams\r\n",
        "bv = CountVectorizer(ngram_range=(2,2))\r\n",
        "bv_matrix = bv.fit_transform(norm_corpus)\r\n",
        "\r\n",
        "bv_matrix = bv_matrix.toarray()\r\n",
        "vocab = bv.get_feature_names()\r\n",
        "pd.DataFrame(bv_matrix, columns=vocab)"
      ],
      "execution_count": 57,
      "outputs": [
        {
          "output_type": "execute_result",
          "data": {
            "text/html": [
              "<div>\n",
              "<style scoped>\n",
              "    .dataframe tbody tr th:only-of-type {\n",
              "        vertical-align: middle;\n",
              "    }\n",
              "\n",
              "    .dataframe tbody tr th {\n",
              "        vertical-align: top;\n",
              "    }\n",
              "\n",
              "    .dataframe thead th {\n",
              "        text-align: right;\n",
              "    }\n",
              "</style>\n",
              "<table border=\"1\" class=\"dataframe\">\n",
              "  <thead>\n",
              "    <tr style=\"text-align: right;\">\n",
              "      <th></th>\n",
              "      <th>bacon eggs</th>\n",
              "      <th>beautiful sky</th>\n",
              "      <th>beautiful today</th>\n",
              "      <th>blue beautiful</th>\n",
              "      <th>blue dog</th>\n",
              "      <th>blue sky</th>\n",
              "      <th>breakfast sausages</th>\n",
              "      <th>brown fox</th>\n",
              "      <th>dog lazy</th>\n",
              "      <th>eggs ham</th>\n",
              "      <th>eggs toast</th>\n",
              "      <th>fox jumps</th>\n",
              "      <th>fox quick</th>\n",
              "      <th>green eggs</th>\n",
              "      <th>ham bacon</th>\n",
              "      <th>ham sausages</th>\n",
              "      <th>jumps lazy</th>\n",
              "      <th>kings breakfast</th>\n",
              "      <th>lazy brown</th>\n",
              "      <th>lazy dog</th>\n",
              "      <th>love blue</th>\n",
              "      <th>love green</th>\n",
              "      <th>quick blue</th>\n",
              "      <th>quick brown</th>\n",
              "      <th>sausages bacon</th>\n",
              "      <th>sausages ham</th>\n",
              "      <th>sky beautiful</th>\n",
              "      <th>sky blue</th>\n",
              "      <th>toast beans</th>\n",
              "    </tr>\n",
              "  </thead>\n",
              "  <tbody>\n",
              "    <tr>\n",
              "      <th>0</th>\n",
              "      <td>0</td>\n",
              "      <td>0</td>\n",
              "      <td>0</td>\n",
              "      <td>1</td>\n",
              "      <td>0</td>\n",
              "      <td>0</td>\n",
              "      <td>0</td>\n",
              "      <td>0</td>\n",
              "      <td>0</td>\n",
              "      <td>0</td>\n",
              "      <td>0</td>\n",
              "      <td>0</td>\n",
              "      <td>0</td>\n",
              "      <td>0</td>\n",
              "      <td>0</td>\n",
              "      <td>0</td>\n",
              "      <td>0</td>\n",
              "      <td>0</td>\n",
              "      <td>0</td>\n",
              "      <td>0</td>\n",
              "      <td>0</td>\n",
              "      <td>0</td>\n",
              "      <td>0</td>\n",
              "      <td>0</td>\n",
              "      <td>0</td>\n",
              "      <td>0</td>\n",
              "      <td>0</td>\n",
              "      <td>1</td>\n",
              "      <td>0</td>\n",
              "    </tr>\n",
              "    <tr>\n",
              "      <th>1</th>\n",
              "      <td>0</td>\n",
              "      <td>1</td>\n",
              "      <td>0</td>\n",
              "      <td>1</td>\n",
              "      <td>0</td>\n",
              "      <td>0</td>\n",
              "      <td>0</td>\n",
              "      <td>0</td>\n",
              "      <td>0</td>\n",
              "      <td>0</td>\n",
              "      <td>0</td>\n",
              "      <td>0</td>\n",
              "      <td>0</td>\n",
              "      <td>0</td>\n",
              "      <td>0</td>\n",
              "      <td>0</td>\n",
              "      <td>0</td>\n",
              "      <td>0</td>\n",
              "      <td>0</td>\n",
              "      <td>0</td>\n",
              "      <td>1</td>\n",
              "      <td>0</td>\n",
              "      <td>0</td>\n",
              "      <td>0</td>\n",
              "      <td>0</td>\n",
              "      <td>0</td>\n",
              "      <td>0</td>\n",
              "      <td>0</td>\n",
              "      <td>0</td>\n",
              "    </tr>\n",
              "    <tr>\n",
              "      <th>2</th>\n",
              "      <td>0</td>\n",
              "      <td>0</td>\n",
              "      <td>0</td>\n",
              "      <td>0</td>\n",
              "      <td>0</td>\n",
              "      <td>0</td>\n",
              "      <td>0</td>\n",
              "      <td>1</td>\n",
              "      <td>0</td>\n",
              "      <td>0</td>\n",
              "      <td>0</td>\n",
              "      <td>1</td>\n",
              "      <td>0</td>\n",
              "      <td>0</td>\n",
              "      <td>0</td>\n",
              "      <td>0</td>\n",
              "      <td>1</td>\n",
              "      <td>0</td>\n",
              "      <td>0</td>\n",
              "      <td>1</td>\n",
              "      <td>0</td>\n",
              "      <td>0</td>\n",
              "      <td>0</td>\n",
              "      <td>1</td>\n",
              "      <td>0</td>\n",
              "      <td>0</td>\n",
              "      <td>0</td>\n",
              "      <td>0</td>\n",
              "      <td>0</td>\n",
              "    </tr>\n",
              "    <tr>\n",
              "      <th>3</th>\n",
              "      <td>1</td>\n",
              "      <td>0</td>\n",
              "      <td>0</td>\n",
              "      <td>0</td>\n",
              "      <td>0</td>\n",
              "      <td>0</td>\n",
              "      <td>1</td>\n",
              "      <td>0</td>\n",
              "      <td>0</td>\n",
              "      <td>0</td>\n",
              "      <td>1</td>\n",
              "      <td>0</td>\n",
              "      <td>0</td>\n",
              "      <td>0</td>\n",
              "      <td>1</td>\n",
              "      <td>0</td>\n",
              "      <td>0</td>\n",
              "      <td>1</td>\n",
              "      <td>0</td>\n",
              "      <td>0</td>\n",
              "      <td>0</td>\n",
              "      <td>0</td>\n",
              "      <td>0</td>\n",
              "      <td>0</td>\n",
              "      <td>0</td>\n",
              "      <td>1</td>\n",
              "      <td>0</td>\n",
              "      <td>0</td>\n",
              "      <td>1</td>\n",
              "    </tr>\n",
              "    <tr>\n",
              "      <th>4</th>\n",
              "      <td>0</td>\n",
              "      <td>0</td>\n",
              "      <td>0</td>\n",
              "      <td>0</td>\n",
              "      <td>0</td>\n",
              "      <td>0</td>\n",
              "      <td>0</td>\n",
              "      <td>0</td>\n",
              "      <td>0</td>\n",
              "      <td>1</td>\n",
              "      <td>0</td>\n",
              "      <td>0</td>\n",
              "      <td>0</td>\n",
              "      <td>1</td>\n",
              "      <td>0</td>\n",
              "      <td>1</td>\n",
              "      <td>0</td>\n",
              "      <td>0</td>\n",
              "      <td>0</td>\n",
              "      <td>0</td>\n",
              "      <td>0</td>\n",
              "      <td>1</td>\n",
              "      <td>0</td>\n",
              "      <td>0</td>\n",
              "      <td>1</td>\n",
              "      <td>0</td>\n",
              "      <td>0</td>\n",
              "      <td>0</td>\n",
              "      <td>0</td>\n",
              "    </tr>\n",
              "    <tr>\n",
              "      <th>5</th>\n",
              "      <td>0</td>\n",
              "      <td>0</td>\n",
              "      <td>0</td>\n",
              "      <td>0</td>\n",
              "      <td>1</td>\n",
              "      <td>0</td>\n",
              "      <td>0</td>\n",
              "      <td>1</td>\n",
              "      <td>1</td>\n",
              "      <td>0</td>\n",
              "      <td>0</td>\n",
              "      <td>0</td>\n",
              "      <td>1</td>\n",
              "      <td>0</td>\n",
              "      <td>0</td>\n",
              "      <td>0</td>\n",
              "      <td>0</td>\n",
              "      <td>0</td>\n",
              "      <td>0</td>\n",
              "      <td>0</td>\n",
              "      <td>0</td>\n",
              "      <td>0</td>\n",
              "      <td>1</td>\n",
              "      <td>0</td>\n",
              "      <td>0</td>\n",
              "      <td>0</td>\n",
              "      <td>0</td>\n",
              "      <td>0</td>\n",
              "      <td>0</td>\n",
              "    </tr>\n",
              "    <tr>\n",
              "      <th>6</th>\n",
              "      <td>0</td>\n",
              "      <td>0</td>\n",
              "      <td>1</td>\n",
              "      <td>0</td>\n",
              "      <td>0</td>\n",
              "      <td>1</td>\n",
              "      <td>0</td>\n",
              "      <td>0</td>\n",
              "      <td>0</td>\n",
              "      <td>0</td>\n",
              "      <td>0</td>\n",
              "      <td>0</td>\n",
              "      <td>0</td>\n",
              "      <td>0</td>\n",
              "      <td>0</td>\n",
              "      <td>0</td>\n",
              "      <td>0</td>\n",
              "      <td>0</td>\n",
              "      <td>0</td>\n",
              "      <td>0</td>\n",
              "      <td>0</td>\n",
              "      <td>0</td>\n",
              "      <td>0</td>\n",
              "      <td>0</td>\n",
              "      <td>0</td>\n",
              "      <td>0</td>\n",
              "      <td>1</td>\n",
              "      <td>1</td>\n",
              "      <td>0</td>\n",
              "    </tr>\n",
              "    <tr>\n",
              "      <th>7</th>\n",
              "      <td>0</td>\n",
              "      <td>0</td>\n",
              "      <td>0</td>\n",
              "      <td>0</td>\n",
              "      <td>0</td>\n",
              "      <td>0</td>\n",
              "      <td>0</td>\n",
              "      <td>1</td>\n",
              "      <td>1</td>\n",
              "      <td>0</td>\n",
              "      <td>0</td>\n",
              "      <td>0</td>\n",
              "      <td>1</td>\n",
              "      <td>0</td>\n",
              "      <td>0</td>\n",
              "      <td>0</td>\n",
              "      <td>0</td>\n",
              "      <td>0</td>\n",
              "      <td>1</td>\n",
              "      <td>0</td>\n",
              "      <td>0</td>\n",
              "      <td>0</td>\n",
              "      <td>0</td>\n",
              "      <td>0</td>\n",
              "      <td>0</td>\n",
              "      <td>0</td>\n",
              "      <td>0</td>\n",
              "      <td>0</td>\n",
              "      <td>0</td>\n",
              "    </tr>\n",
              "  </tbody>\n",
              "</table>\n",
              "</div>"
            ],
            "text/plain": [
              "   bacon eggs  beautiful sky  ...  sky blue  toast beans\n",
              "0           0              0  ...         1            0\n",
              "1           0              1  ...         0            0\n",
              "2           0              0  ...         0            0\n",
              "3           1              0  ...         0            1\n",
              "4           0              0  ...         0            0\n",
              "5           0              0  ...         0            0\n",
              "6           0              0  ...         1            0\n",
              "7           0              0  ...         0            0\n",
              "\n",
              "[8 rows x 29 columns]"
            ]
          },
          "metadata": {
            "tags": []
          },
          "execution_count": 57
        }
      ]
    },
    {
      "cell_type": "code",
      "metadata": {
        "colab": {
          "base_uri": "https://localhost:8080/",
          "height": 287
        },
        "id": "6y1WieGS0oci",
        "outputId": "48be7df8-a0cd-4515-9356-e96dcdb24ca5"
      },
      "source": [
        "from sklearn.feature_extraction.text import TfidfVectorizer\r\n",
        "\r\n",
        "tv = TfidfVectorizer(min_df=0., max_df=1., use_idf=True)\r\n",
        "tv_matrix = tv.fit_transform(norm_corpus)\r\n",
        "tv_matrix = tv_matrix.toarray()\r\n",
        "\r\n",
        "vocab = tv.get_feature_names()\r\n",
        "pd.DataFrame(np.round(tv_matrix, 2), columns=vocab)"
      ],
      "execution_count": 58,
      "outputs": [
        {
          "output_type": "execute_result",
          "data": {
            "text/html": [
              "<div>\n",
              "<style scoped>\n",
              "    .dataframe tbody tr th:only-of-type {\n",
              "        vertical-align: middle;\n",
              "    }\n",
              "\n",
              "    .dataframe tbody tr th {\n",
              "        vertical-align: top;\n",
              "    }\n",
              "\n",
              "    .dataframe thead th {\n",
              "        text-align: right;\n",
              "    }\n",
              "</style>\n",
              "<table border=\"1\" class=\"dataframe\">\n",
              "  <thead>\n",
              "    <tr style=\"text-align: right;\">\n",
              "      <th></th>\n",
              "      <th>bacon</th>\n",
              "      <th>beans</th>\n",
              "      <th>beautiful</th>\n",
              "      <th>blue</th>\n",
              "      <th>breakfast</th>\n",
              "      <th>brown</th>\n",
              "      <th>dog</th>\n",
              "      <th>eggs</th>\n",
              "      <th>fox</th>\n",
              "      <th>green</th>\n",
              "      <th>ham</th>\n",
              "      <th>jumps</th>\n",
              "      <th>kings</th>\n",
              "      <th>lazy</th>\n",
              "      <th>love</th>\n",
              "      <th>quick</th>\n",
              "      <th>sausages</th>\n",
              "      <th>sky</th>\n",
              "      <th>toast</th>\n",
              "      <th>today</th>\n",
              "    </tr>\n",
              "  </thead>\n",
              "  <tbody>\n",
              "    <tr>\n",
              "      <th>0</th>\n",
              "      <td>0.00</td>\n",
              "      <td>0.00</td>\n",
              "      <td>0.60</td>\n",
              "      <td>0.53</td>\n",
              "      <td>0.00</td>\n",
              "      <td>0.00</td>\n",
              "      <td>0.00</td>\n",
              "      <td>0.00</td>\n",
              "      <td>0.00</td>\n",
              "      <td>0.00</td>\n",
              "      <td>0.00</td>\n",
              "      <td>0.00</td>\n",
              "      <td>0.00</td>\n",
              "      <td>0.00</td>\n",
              "      <td>0.00</td>\n",
              "      <td>0.00</td>\n",
              "      <td>0.00</td>\n",
              "      <td>0.60</td>\n",
              "      <td>0.00</td>\n",
              "      <td>0.0</td>\n",
              "    </tr>\n",
              "    <tr>\n",
              "      <th>1</th>\n",
              "      <td>0.00</td>\n",
              "      <td>0.00</td>\n",
              "      <td>0.49</td>\n",
              "      <td>0.43</td>\n",
              "      <td>0.00</td>\n",
              "      <td>0.00</td>\n",
              "      <td>0.00</td>\n",
              "      <td>0.00</td>\n",
              "      <td>0.00</td>\n",
              "      <td>0.00</td>\n",
              "      <td>0.00</td>\n",
              "      <td>0.00</td>\n",
              "      <td>0.00</td>\n",
              "      <td>0.00</td>\n",
              "      <td>0.57</td>\n",
              "      <td>0.00</td>\n",
              "      <td>0.00</td>\n",
              "      <td>0.49</td>\n",
              "      <td>0.00</td>\n",
              "      <td>0.0</td>\n",
              "    </tr>\n",
              "    <tr>\n",
              "      <th>2</th>\n",
              "      <td>0.00</td>\n",
              "      <td>0.00</td>\n",
              "      <td>0.00</td>\n",
              "      <td>0.00</td>\n",
              "      <td>0.00</td>\n",
              "      <td>0.38</td>\n",
              "      <td>0.38</td>\n",
              "      <td>0.00</td>\n",
              "      <td>0.38</td>\n",
              "      <td>0.00</td>\n",
              "      <td>0.00</td>\n",
              "      <td>0.53</td>\n",
              "      <td>0.00</td>\n",
              "      <td>0.38</td>\n",
              "      <td>0.00</td>\n",
              "      <td>0.38</td>\n",
              "      <td>0.00</td>\n",
              "      <td>0.00</td>\n",
              "      <td>0.00</td>\n",
              "      <td>0.0</td>\n",
              "    </tr>\n",
              "    <tr>\n",
              "      <th>3</th>\n",
              "      <td>0.32</td>\n",
              "      <td>0.38</td>\n",
              "      <td>0.00</td>\n",
              "      <td>0.00</td>\n",
              "      <td>0.38</td>\n",
              "      <td>0.00</td>\n",
              "      <td>0.00</td>\n",
              "      <td>0.32</td>\n",
              "      <td>0.00</td>\n",
              "      <td>0.00</td>\n",
              "      <td>0.32</td>\n",
              "      <td>0.00</td>\n",
              "      <td>0.38</td>\n",
              "      <td>0.00</td>\n",
              "      <td>0.00</td>\n",
              "      <td>0.00</td>\n",
              "      <td>0.32</td>\n",
              "      <td>0.00</td>\n",
              "      <td>0.38</td>\n",
              "      <td>0.0</td>\n",
              "    </tr>\n",
              "    <tr>\n",
              "      <th>4</th>\n",
              "      <td>0.39</td>\n",
              "      <td>0.00</td>\n",
              "      <td>0.00</td>\n",
              "      <td>0.00</td>\n",
              "      <td>0.00</td>\n",
              "      <td>0.00</td>\n",
              "      <td>0.00</td>\n",
              "      <td>0.39</td>\n",
              "      <td>0.00</td>\n",
              "      <td>0.47</td>\n",
              "      <td>0.39</td>\n",
              "      <td>0.00</td>\n",
              "      <td>0.00</td>\n",
              "      <td>0.00</td>\n",
              "      <td>0.39</td>\n",
              "      <td>0.00</td>\n",
              "      <td>0.39</td>\n",
              "      <td>0.00</td>\n",
              "      <td>0.00</td>\n",
              "      <td>0.0</td>\n",
              "    </tr>\n",
              "    <tr>\n",
              "      <th>5</th>\n",
              "      <td>0.00</td>\n",
              "      <td>0.00</td>\n",
              "      <td>0.00</td>\n",
              "      <td>0.37</td>\n",
              "      <td>0.00</td>\n",
              "      <td>0.42</td>\n",
              "      <td>0.42</td>\n",
              "      <td>0.00</td>\n",
              "      <td>0.42</td>\n",
              "      <td>0.00</td>\n",
              "      <td>0.00</td>\n",
              "      <td>0.00</td>\n",
              "      <td>0.00</td>\n",
              "      <td>0.42</td>\n",
              "      <td>0.00</td>\n",
              "      <td>0.42</td>\n",
              "      <td>0.00</td>\n",
              "      <td>0.00</td>\n",
              "      <td>0.00</td>\n",
              "      <td>0.0</td>\n",
              "    </tr>\n",
              "    <tr>\n",
              "      <th>6</th>\n",
              "      <td>0.00</td>\n",
              "      <td>0.00</td>\n",
              "      <td>0.36</td>\n",
              "      <td>0.32</td>\n",
              "      <td>0.00</td>\n",
              "      <td>0.00</td>\n",
              "      <td>0.00</td>\n",
              "      <td>0.00</td>\n",
              "      <td>0.00</td>\n",
              "      <td>0.00</td>\n",
              "      <td>0.00</td>\n",
              "      <td>0.00</td>\n",
              "      <td>0.00</td>\n",
              "      <td>0.00</td>\n",
              "      <td>0.00</td>\n",
              "      <td>0.00</td>\n",
              "      <td>0.00</td>\n",
              "      <td>0.72</td>\n",
              "      <td>0.00</td>\n",
              "      <td>0.5</td>\n",
              "    </tr>\n",
              "    <tr>\n",
              "      <th>7</th>\n",
              "      <td>0.00</td>\n",
              "      <td>0.00</td>\n",
              "      <td>0.00</td>\n",
              "      <td>0.00</td>\n",
              "      <td>0.00</td>\n",
              "      <td>0.45</td>\n",
              "      <td>0.45</td>\n",
              "      <td>0.00</td>\n",
              "      <td>0.45</td>\n",
              "      <td>0.00</td>\n",
              "      <td>0.00</td>\n",
              "      <td>0.00</td>\n",
              "      <td>0.00</td>\n",
              "      <td>0.45</td>\n",
              "      <td>0.00</td>\n",
              "      <td>0.45</td>\n",
              "      <td>0.00</td>\n",
              "      <td>0.00</td>\n",
              "      <td>0.00</td>\n",
              "      <td>0.0</td>\n",
              "    </tr>\n",
              "  </tbody>\n",
              "</table>\n",
              "</div>"
            ],
            "text/plain": [
              "   bacon  beans  beautiful  blue  ...  sausages   sky  toast  today\n",
              "0   0.00   0.00       0.60  0.53  ...      0.00  0.60   0.00    0.0\n",
              "1   0.00   0.00       0.49  0.43  ...      0.00  0.49   0.00    0.0\n",
              "2   0.00   0.00       0.00  0.00  ...      0.00  0.00   0.00    0.0\n",
              "3   0.32   0.38       0.00  0.00  ...      0.32  0.00   0.38    0.0\n",
              "4   0.39   0.00       0.00  0.00  ...      0.39  0.00   0.00    0.0\n",
              "5   0.00   0.00       0.00  0.37  ...      0.00  0.00   0.00    0.0\n",
              "6   0.00   0.00       0.36  0.32  ...      0.00  0.72   0.00    0.5\n",
              "7   0.00   0.00       0.00  0.00  ...      0.00  0.00   0.00    0.0\n",
              "\n",
              "[8 rows x 20 columns]"
            ]
          },
          "metadata": {
            "tags": []
          },
          "execution_count": 58
        }
      ]
    },
    {
      "cell_type": "code",
      "metadata": {
        "colab": {
          "base_uri": "https://localhost:8080/",
          "height": 287
        },
        "id": "KkOo0foK0tgb",
        "outputId": "7bad11fa-e2a9-4f69-c152-3cfcdda38e35"
      },
      "source": [
        "from sklearn.metrics.pairwise import cosine_similarity\r\n",
        "\r\n",
        "similarity_matrix = cosine_similarity(tv_matrix)\r\n",
        "similarity_df = pd.DataFrame(similarity_matrix)\r\n",
        "similarity_df"
      ],
      "execution_count": 59,
      "outputs": [
        {
          "output_type": "execute_result",
          "data": {
            "text/html": [
              "<div>\n",
              "<style scoped>\n",
              "    .dataframe tbody tr th:only-of-type {\n",
              "        vertical-align: middle;\n",
              "    }\n",
              "\n",
              "    .dataframe tbody tr th {\n",
              "        vertical-align: top;\n",
              "    }\n",
              "\n",
              "    .dataframe thead th {\n",
              "        text-align: right;\n",
              "    }\n",
              "</style>\n",
              "<table border=\"1\" class=\"dataframe\">\n",
              "  <thead>\n",
              "    <tr style=\"text-align: right;\">\n",
              "      <th></th>\n",
              "      <th>0</th>\n",
              "      <th>1</th>\n",
              "      <th>2</th>\n",
              "      <th>3</th>\n",
              "      <th>4</th>\n",
              "      <th>5</th>\n",
              "      <th>6</th>\n",
              "      <th>7</th>\n",
              "    </tr>\n",
              "  </thead>\n",
              "  <tbody>\n",
              "    <tr>\n",
              "      <th>0</th>\n",
              "      <td>1.000000</td>\n",
              "      <td>0.820599</td>\n",
              "      <td>0.000000</td>\n",
              "      <td>0.000000</td>\n",
              "      <td>0.000000</td>\n",
              "      <td>0.192353</td>\n",
              "      <td>0.817246</td>\n",
              "      <td>0.000000</td>\n",
              "    </tr>\n",
              "    <tr>\n",
              "      <th>1</th>\n",
              "      <td>0.820599</td>\n",
              "      <td>1.000000</td>\n",
              "      <td>0.000000</td>\n",
              "      <td>0.000000</td>\n",
              "      <td>0.225489</td>\n",
              "      <td>0.157845</td>\n",
              "      <td>0.670631</td>\n",
              "      <td>0.000000</td>\n",
              "    </tr>\n",
              "    <tr>\n",
              "      <th>2</th>\n",
              "      <td>0.000000</td>\n",
              "      <td>0.000000</td>\n",
              "      <td>1.000000</td>\n",
              "      <td>0.000000</td>\n",
              "      <td>0.000000</td>\n",
              "      <td>0.791821</td>\n",
              "      <td>0.000000</td>\n",
              "      <td>0.850516</td>\n",
              "    </tr>\n",
              "    <tr>\n",
              "      <th>3</th>\n",
              "      <td>0.000000</td>\n",
              "      <td>0.000000</td>\n",
              "      <td>0.000000</td>\n",
              "      <td>1.000000</td>\n",
              "      <td>0.506866</td>\n",
              "      <td>0.000000</td>\n",
              "      <td>0.000000</td>\n",
              "      <td>0.000000</td>\n",
              "    </tr>\n",
              "    <tr>\n",
              "      <th>4</th>\n",
              "      <td>0.000000</td>\n",
              "      <td>0.225489</td>\n",
              "      <td>0.000000</td>\n",
              "      <td>0.506866</td>\n",
              "      <td>1.000000</td>\n",
              "      <td>0.000000</td>\n",
              "      <td>0.000000</td>\n",
              "      <td>0.000000</td>\n",
              "    </tr>\n",
              "    <tr>\n",
              "      <th>5</th>\n",
              "      <td>0.192353</td>\n",
              "      <td>0.157845</td>\n",
              "      <td>0.791821</td>\n",
              "      <td>0.000000</td>\n",
              "      <td>0.000000</td>\n",
              "      <td>1.000000</td>\n",
              "      <td>0.115488</td>\n",
              "      <td>0.930989</td>\n",
              "    </tr>\n",
              "    <tr>\n",
              "      <th>6</th>\n",
              "      <td>0.817246</td>\n",
              "      <td>0.670631</td>\n",
              "      <td>0.000000</td>\n",
              "      <td>0.000000</td>\n",
              "      <td>0.000000</td>\n",
              "      <td>0.115488</td>\n",
              "      <td>1.000000</td>\n",
              "      <td>0.000000</td>\n",
              "    </tr>\n",
              "    <tr>\n",
              "      <th>7</th>\n",
              "      <td>0.000000</td>\n",
              "      <td>0.000000</td>\n",
              "      <td>0.850516</td>\n",
              "      <td>0.000000</td>\n",
              "      <td>0.000000</td>\n",
              "      <td>0.930989</td>\n",
              "      <td>0.000000</td>\n",
              "      <td>1.000000</td>\n",
              "    </tr>\n",
              "  </tbody>\n",
              "</table>\n",
              "</div>"
            ],
            "text/plain": [
              "          0         1         2  ...         5         6         7\n",
              "0  1.000000  0.820599  0.000000  ...  0.192353  0.817246  0.000000\n",
              "1  0.820599  1.000000  0.000000  ...  0.157845  0.670631  0.000000\n",
              "2  0.000000  0.000000  1.000000  ...  0.791821  0.000000  0.850516\n",
              "3  0.000000  0.000000  0.000000  ...  0.000000  0.000000  0.000000\n",
              "4  0.000000  0.225489  0.000000  ...  0.000000  0.000000  0.000000\n",
              "5  0.192353  0.157845  0.791821  ...  1.000000  0.115488  0.930989\n",
              "6  0.817246  0.670631  0.000000  ...  0.115488  1.000000  0.000000\n",
              "7  0.000000  0.000000  0.850516  ...  0.930989  0.000000  1.000000\n",
              "\n",
              "[8 rows x 8 columns]"
            ]
          },
          "metadata": {
            "tags": []
          },
          "execution_count": 59
        }
      ]
    },
    {
      "cell_type": "code",
      "metadata": {
        "id": "wf0KaTS10yLS"
      },
      "source": [
        ""
      ],
      "execution_count": null,
      "outputs": []
    }
  ]
}